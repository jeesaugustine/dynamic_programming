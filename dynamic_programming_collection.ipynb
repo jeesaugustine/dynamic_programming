{
 "cells": [
  {
   "cell_type": "markdown",
   "metadata": {},
   "source": [
    "# Dynamic Programming "
   ]
  },
  {
   "cell_type": "code",
   "execution_count": 50,
   "metadata": {},
   "outputs": [],
   "source": [
    "import time"
   ]
  },
  {
   "cell_type": "markdown",
   "metadata": {},
   "source": [
    "## Number of subsets to a given set that adds up to a given total value\n",
    "Here I am trying to find the solution for the problem of finding all possible subsets of a given set that adds up to a given sum "
   ]
  },
  {
   "cell_type": "markdown",
   "metadata": {},
   "source": [
    "* First I will present a recursive solution and then a dynamic programming one \n",
    "* Given a set `S = {2, 4, 6, 10}`, Find the number of subsets that adds up to `16`\n",
    "\n",
    "\n",
    "* Answer = 2 { {10, 6} ,  {10, 4, 2} }"
   ]
  },
  {
   "cell_type": "markdown",
   "metadata": {},
   "source": [
    "Conditions: \n",
    "* No negative numbers \n",
    "* No repetition of elements \n",
    "* Sorted in ascending order"
   ]
  },
  {
   "cell_type": "markdown",
   "metadata": {},
   "source": [
    "## Recursive Solution"
   ]
  },
  {
   "cell_type": "code",
   "execution_count": 10,
   "metadata": {},
   "outputs": [],
   "source": [
    "def rec(total, i, values_list):\n",
    "    if total < 0:\n",
    "        return 0\n",
    "    elif total is 0:\n",
    "        return 1\n",
    "    elif i < 0:\n",
    "        return 0\n",
    "    if total < values_list[i]:\n",
    "        return rec(total, i-1, values_list)\n",
    "    else:\n",
    "        return rec(total-values_list[i], i-1, values_list) + rec(total, i-1, values_list)"
   ]
  },
  {
   "cell_type": "code",
   "execution_count": 11,
   "metadata": {},
   "outputs": [],
   "source": [
    "def get_all_subsets(total, values):\n",
    "    if sum(n < 0 for n in values):\n",
    "        return -1\n",
    "    return rec(total, len(values) - 1, values)"
   ]
  },
  {
   "cell_type": "code",
   "execution_count": 12,
   "metadata": {},
   "outputs": [],
   "source": [
    "s = [2, 4, 6, 10]"
   ]
  },
  {
   "cell_type": "code",
   "execution_count": 14,
   "metadata": {},
   "outputs": [
    {
     "name": "stdout",
     "output_type": "stream",
     "text": [
      "2\n"
     ]
    }
   ],
   "source": [
    "print(get_all_subsets(16, s))"
   ]
  },
  {
   "cell_type": "markdown",
   "metadata": {},
   "source": [
    "## Dynamic Programming Solution"
   ]
  },
  {
   "cell_type": "code",
   "execution_count": 72,
   "metadata": {},
   "outputs": [],
   "source": [
    "def _dynamic_rec(total, i, values_list, mem):\n",
    "    key = str(total) + '-' + str(i)\n",
    "    if key in mem:\n",
    "        return mem[key]\n",
    "    if total < 0:\n",
    "        return 0\n",
    "    elif total is 0:\n",
    "        return 1\n",
    "    elif i < 0:\n",
    "        return 0\n",
    "    if total < values_list[i]:\n",
    "        to_return = _dynamic_rec(total, i-1, values_list, mem)\n",
    "    else:\n",
    "        to_return = _dynamic_rec(total-values_list[i], i-1, values_list, mem) + _dynamic_rec(total, i-1, values_list, mem)\n",
    "\n",
    "    mem[key] = to_return\n",
    "    return to_return"
   ]
  },
  {
   "cell_type": "code",
   "execution_count": 73,
   "metadata": {},
   "outputs": [],
   "source": [
    "def get_all_subsets_dynamic(total, values):\n",
    "    if sum(n < 0 for n in values):\n",
    "        return -1\n",
    "    return _dynamic_rec(total, len(values) - 1, values, {})"
   ]
  },
  {
   "cell_type": "code",
   "execution_count": 74,
   "metadata": {},
   "outputs": [
    {
     "data": {
      "text/plain": [
       "2"
      ]
     },
     "execution_count": 74,
     "metadata": {},
     "output_type": "execute_result"
    }
   ],
   "source": [
    "get_all_subsets_dynamic(16, s)"
   ]
  },
  {
   "cell_type": "markdown",
   "metadata": {},
   "source": [
    "## <font color='blue'> Notes </font> \n",
    "* In this problem we have done the following as a part of solution\n",
    "* We have started from the end to have a delimiting condition on counter, i as `-1`\n",
    "* We have seen condition as if the value of a particular value addition to solution gets the total below `-1`\n",
    "* If thats is not the case, (i) `what will happen if we try to add that value to solution set` (ii) `what if its skipped`\n",
    "* Termination condition will be `total = 0` which we will count as `1`\n",
    "* In all other cases return `0`"
   ]
  },
  {
   "cell_type": "markdown",
   "metadata": {},
   "source": [
    "# Problem of finding longest palindrome substring in a given string \n",
    "\n",
    "## This is a naive solution and requires an O(n^3) time in terms of the length of the string "
   ]
  },
  {
   "cell_type": "code",
   "execution_count": 75,
   "metadata": {},
   "outputs": [],
   "source": [
    "def longest_palindrome_n3(string1):\n",
    "    longest = ''\n",
    "    for i in range(len(string1)):\n",
    "        for j in range(i, len(string1)):\n",
    "            if string1[i:j] == string1[i:j][::-1] and j - i > len(longest):\n",
    "                longest = string1[i:j]\n",
    "\n",
    "    return longest"
   ]
  },
  {
   "cell_type": "code",
   "execution_count": 76,
   "metadata": {},
   "outputs": [
    {
     "name": "stdout",
     "output_type": "stream",
     "text": [
      "baxabaxab\n",
      "9\n"
     ]
    }
   ],
   "source": [
    "l = longest_palindrome_n3('abaxabaxabb')\n",
    "print(l)\n",
    "print(len(l))"
   ]
  },
  {
   "cell_type": "markdown",
   "metadata": {},
   "source": [
    "## This is a improved solution and requires only O(n^2) time in terms of the length of the string "
   ]
  },
  {
   "cell_type": "code",
   "execution_count": 77,
   "metadata": {},
   "outputs": [],
   "source": [
    "def longest_palindrome_n2(string1):\n",
    "    start, new_start, end, new_end = 0, 0, 0, 0\n",
    "    for i in range(len(string1)):\n",
    "        \"\"\"\n",
    "        This for loop goes over the individual value of the middle index and see if \n",
    "        there is palindrome starting from this index stretching outwards.\n",
    "        The method for getting the largest palindrome with a given index is as  \n",
    "        given in 'longest_given_a_string_and_middle_index_or_indexes'\n",
    "        \"\"\"\n",
    "        \"\"\"\n",
    "        This is for tesing the odd size palindrome and has a single value of middle index i and i\n",
    "        \"\"\"\n",
    "        new_start, new_end = longest_given_a_string_and_middle_index_or_indexes(string1, i, i)\n",
    "        if abs(new_start - new_end) > abs(start - end):\n",
    "            start = new_start\n",
    "            end = new_end\n",
    "        \"\"\"\n",
    "        This is for tesing the even size palindrome and has a single value of middle index i and (i + 1)\n",
    "        \"\"\"\n",
    "        new_start, new_end = longest_given_a_string_and_middle_index_or_indexes(string1, i, i+1)\n",
    "        if abs(new_start - new_end) > abs(start - end):\n",
    "            start = new_start\n",
    "            end = new_end\n",
    "    # now you should have the indexes of the begin and end in the variables.\n",
    "    return string1[start:end+1]\n",
    "\n",
    "\n",
    "def longest_given_a_string_and_middle_index_or_indexes(string1, middle_left, middle_right):\n",
    "    if middle_right >= len(string1):\n",
    "        return 0, 0\n",
    "    start = middle_left\n",
    "    end = middle_right\n",
    "    while start >= 0 and end < len(string1) and string1[start] == string1[end]:\n",
    "        start -= 1\n",
    "        end += 1\n",
    "    return start + 1, end - 1"
   ]
  },
  {
   "cell_type": "code",
   "execution_count": 78,
   "metadata": {},
   "outputs": [
    {
     "name": "stdout",
     "output_type": "stream",
     "text": [
      "baxabaxab\n",
      "9\n"
     ]
    }
   ],
   "source": [
    "l = longest_palindrome_n2('abaxabaxabb')\n",
    "print(l)\n",
    "print(len(l))"
   ]
  },
  {
   "cell_type": "markdown",
   "metadata": {},
   "source": [
    "# Problem \n",
    "\n",
    "## A child is running up a staircase with `n` steps and can hop either `1` step, `2` step,  or `3` steps at a time.\n",
    "\n",
    "## Implement a method to count how many possible ways the child can run up the stairs"
   ]
  },
  {
   "cell_type": "markdown",
   "metadata": {},
   "source": [
    "## <font color='blue'> Order of (3^n) solution; recursive </font> "
   ]
  },
  {
   "cell_type": "code",
   "execution_count": 79,
   "metadata": {},
   "outputs": [],
   "source": [
    "def ClimbCounterN(n):\n",
    "    if n < 0:\n",
    "        return 0\n",
    "    elif n == 0:\n",
    "        return 1\n",
    "    else:\n",
    "        return ClimbCounterN(n-1) + ClimbCounterN(n-2) + ClimbCounterN(n-3)"
   ]
  },
  {
   "cell_type": "code",
   "execution_count": 80,
   "metadata": {},
   "outputs": [
    {
     "name": "stdout",
     "output_type": "stream",
     "text": [
      "Time for recursive solution:  0.1111142635345459  seconds\n",
      "121415\n"
     ]
    }
   ],
   "source": [
    "tic = time.time()\n",
    "number_of_ways = ClimbCounterN(20)\n",
    "toc = time.time() - tic\n",
    "print('Time for recursive solution: ', toc, ' seconds')\n",
    "print(number_of_ways)"
   ]
  },
  {
   "cell_type": "markdown",
   "metadata": {},
   "source": [
    "## <font color='salmon'> Time Profiling recursive </font>"
   ]
  },
  {
   "cell_type": "code",
   "execution_count": 82,
   "metadata": {},
   "outputs": [
    {
     "name": "stdout",
     "output_type": "stream",
     "text": [
      "1.97 s ± 124 ms per loop (mean ± std. dev. of 7 runs, 3 loops each)\n"
     ]
    }
   ],
   "source": [
    "%timeit -n 3 ClimbCounterN(25)"
   ]
  },
  {
   "cell_type": "code",
   "execution_count": 83,
   "metadata": {},
   "outputs": [],
   "source": [
    "def _dynamic_ClimbCounterN(n, mem):\n",
    "    if mem[n-1] is not -1:\n",
    "        return mem[n-1]\n",
    "    if n < 0:\n",
    "        return 0\n",
    "    elif n == 0:\n",
    "        return 1\n",
    "    else:\n",
    "        to_return = _dynamic_ClimbCounterN(n - 1, mem) + _dynamic_ClimbCounterN(n - 2, mem) + _dynamic_ClimbCounterN(n - 3, mem)\n",
    "    mem[n-1] = to_return\n",
    "    return to_return\n",
    "\n",
    "def _dynamic_ClimbCounterN_driver(n):\n",
    "    mem = [-1] * n\n",
    "    count = _dynamic_ClimbCounterN(n, mem)\n",
    "    return count"
   ]
  },
  {
   "cell_type": "code",
   "execution_count": 91,
   "metadata": {
    "scrolled": true
   },
   "outputs": [
    {
     "name": "stdout",
     "output_type": "stream",
     "text": [
      "Time for the Dynamic solution:  0.00017309188842773438  seconds\n",
      "53798080\n"
     ]
    }
   ],
   "source": [
    "tic = time.time()\n",
    "number_of_ways = _dynamic_ClimbCounterN_driver(30)\n",
    "toc = time.time() - tic\n",
    "print('Time for the Dynamic solution: ', toc, ' seconds')\n",
    "print(number_of_ways)"
   ]
  },
  {
   "cell_type": "markdown",
   "metadata": {},
   "source": [
    "## <font color='olive'> Time Profiling dynamic  </font>"
   ]
  },
  {
   "cell_type": "code",
   "execution_count": 89,
   "metadata": {},
   "outputs": [
    {
     "name": "stdout",
     "output_type": "stream",
     "text": [
      "23.6 µs ± 1.12 µs per loop (mean ± std. dev. of 7 runs, 3 loops each)\n"
     ]
    }
   ],
   "source": [
    "%timeit -n 3 _dynamic_ClimbCounterN_driver(30)"
   ]
  },
  {
   "cell_type": "code",
   "execution_count": 88,
   "metadata": {},
   "outputs": [
    {
     "name": "stdout",
     "output_type": "stream",
     "text": [
      "The line_profiler extension is already loaded. To reload it, use:\n",
      "  %reload_ext line_profiler\n"
     ]
    }
   ],
   "source": [
    "%load_ext line_profiler"
   ]
  },
  {
   "cell_type": "code",
   "execution_count": 87,
   "metadata": {},
   "outputs": [],
   "source": [
    "%lprun -f _dynamic_ClimbCounterN _dynamic_ClimbCounterN_driver(30)"
   ]
  },
  {
   "cell_type": "code",
   "execution_count": null,
   "metadata": {},
   "outputs": [],
   "source": []
  }
 ],
 "metadata": {
  "kernelspec": {
   "display_name": "Python 3",
   "language": "python",
   "name": "python3"
  },
  "language_info": {
   "codemirror_mode": {
    "name": "ipython",
    "version": 3
   },
   "file_extension": ".py",
   "mimetype": "text/x-python",
   "name": "python",
   "nbconvert_exporter": "python",
   "pygments_lexer": "ipython3",
   "version": "3.6.4"
  }
 },
 "nbformat": 4,
 "nbformat_minor": 2
}
